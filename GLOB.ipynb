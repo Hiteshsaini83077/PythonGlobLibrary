{
 "cells": [
  {
   "cell_type": "code",
   "execution_count": 1,
   "id": "b72f4d06-5ad8-41db-abab-a643d7d6fcb9",
   "metadata": {},
   "outputs": [
    {
     "name": "stdout",
     "output_type": "stream",
     "text": [
      "[]\n"
     ]
    }
   ],
   "source": [
    "import os\n",
    "\n",
    "class Glob:\n",
    "    def __init__(self, path):\n",
    "        self.path = path\n",
    "\n",
    "    def glob(self, pattern):\n",
    "        return self._find_matches(self.path, pattern)\n",
    "\n",
    "    def iglob(self, pattern):\n",
    "        return self._iter_matches(self.path, pattern)\n",
    "\n",
    "    def _find_matches(self, path, pattern):\n",
    "        matches = []\n",
    "        for root, dirs, files in os.walk(path):\n",
    "            for file in files:\n",
    "                if self._match_pattern(file, pattern):\n",
    "                    matches.append(os.path.join(root, file))\n",
    "        return matches\n",
    "\n",
    "    def _iter_matches(self, path, pattern):\n",
    "        for root, dirs, files in os.walk(path):\n",
    "            for file in files:\n",
    "                if self._match_pattern(file, pattern):\n",
    "                    yield os.path.join(root, file)\n",
    "\n",
    "    @staticmethod\n",
    "    def _match_pattern(file, pattern):\n",
    "        import fnmatch\n",
    "        return fnmatch.fnmatch(file, pattern)\n",
    "\n",
    "# Usage example:\n",
    "glob_obj = Glob('/path/to/directory')\n",
    "\n",
    "# Find all .txt files\n",
    "txt_files = glob_obj.glob('*.txt')\n",
    "print(txt_files)\n",
    "\n",
    "# Find all .py files iteratively\n",
    "for py_file in glob_obj.iglob('*.py'):\n",
    "    print(py_file)\n"
   ]
  }
 ],
 "metadata": {
  "kernelspec": {
   "display_name": "Python 3 (ipykernel)",
   "language": "python",
   "name": "python3"
  },
  "language_info": {
   "codemirror_mode": {
    "name": "ipython",
    "version": 3
   },
   "file_extension": ".py",
   "mimetype": "text/x-python",
   "name": "python",
   "nbconvert_exporter": "python",
   "pygments_lexer": "ipython3",
   "version": "3.12.4"
  }
 },
 "nbformat": 4,
 "nbformat_minor": 5
}
